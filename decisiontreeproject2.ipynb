{
 "cells": [
  {
   "cell_type": "code",
   "execution_count": 2,
   "metadata": {},
   "outputs": [],
   "source": [
    "import matplotlib as mpl\n",
    "import matplotlib.pyplot as plt\n",
    "import numpy as np \n",
    "import pandas as pd\n",
    "import seaborn as sns\n",
    "import sklearn\n",
    "from sklearn.metrics import confusion_matrix\n",
    "from sklearn.model_selection import train_test_split\n",
    "from sklearn.tree import DecisionTreeClassifier\n",
    "from sklearn.metrics import classification_report\n",
    "from sklearn.feature_selection import SelectFromModel\n",
    "from sklearn.metrics import average_precision_score\n",
    "from sklearn.metrics import recall_score\n",
    "from sklearn.metrics import accuracy_score\n",
    "from sklearn.metrics import balanced_accuracy_score"
   ]
  },
  {
   "cell_type": "code",
   "execution_count": 3,
   "metadata": {},
   "outputs": [],
   "source": [
    "Health_data = pd.read_csv('train.csv')\n",
    "Health_data = Health_data.drop(['id'],axis=1)\n",
    "Region_code_category = pd.cut(Health_data.Region_Code,bins=[0,10,20,30,40,50,60],labels=['RC_1-10','RC_11-20','RC_21-30','RC_31-40','RC_41-50','RC_51-60'])\n",
    "Health_data.insert(4,'Region_code_category',Region_code_category)\n",
    "Policy_channel_category = pd.cut(Health_data.Policy_Sales_Channel,bins=[0,45,140,180],labels=['Policy_1-45','Policy_45-140','Policy_140-180'])\n",
    "Health_data.insert(10,'Policy_channel_category',Policy_channel_category)"
   ]
  },
  {
   "cell_type": "code",
   "execution_count": 4,
   "metadata": {},
   "outputs": [],
   "source": [
    "Health_data = Health_data.drop(['Region_Code'],axis=1)\n",
    "Health_data = Health_data.drop(['Policy_Sales_Channel'],axis=1)\n",
    "Health_data = pd.get_dummies(Health_data,columns=['Gender'],drop_first=True)\n",
    "Health_data = pd.get_dummies(Health_data,columns=['Vehicle_Age'],drop_first=True)\n",
    "Health_data = pd.get_dummies(Health_data,columns=['Vehicle_Damage'],drop_first=True)\n",
    "Health_data = pd.get_dummies(Health_data,columns=['Region_code_category'],drop_first=True)\n",
    "Health_data = pd.get_dummies(Health_data,columns=['Policy_channel_category'],drop_first=True)"
   ]
  },
  {
   "cell_type": "code",
   "execution_count": 5,
   "metadata": {},
   "outputs": [
    {
     "data": {
      "text/html": [
       "<div>\n",
       "<style scoped>\n",
       "    .dataframe tbody tr th:only-of-type {\n",
       "        vertical-align: middle;\n",
       "    }\n",
       "\n",
       "    .dataframe tbody tr th {\n",
       "        vertical-align: top;\n",
       "    }\n",
       "\n",
       "    .dataframe thead th {\n",
       "        text-align: right;\n",
       "    }\n",
       "</style>\n",
       "<table border=\"1\" class=\"dataframe\">\n",
       "  <thead>\n",
       "    <tr style=\"text-align: right;\">\n",
       "      <th></th>\n",
       "      <th>Age</th>\n",
       "      <th>Driving_License</th>\n",
       "      <th>Previously_Insured</th>\n",
       "      <th>Annual_Premium</th>\n",
       "      <th>Vintage</th>\n",
       "      <th>Response</th>\n",
       "      <th>Gender_Male</th>\n",
       "      <th>Vehicle_Age_&lt; 1 Year</th>\n",
       "      <th>Vehicle_Age_&gt; 2 Years</th>\n",
       "      <th>Vehicle_Damage_Yes</th>\n",
       "      <th>Region_code_category_RC_11-20</th>\n",
       "      <th>Region_code_category_RC_21-30</th>\n",
       "      <th>Region_code_category_RC_31-40</th>\n",
       "      <th>Region_code_category_RC_41-50</th>\n",
       "      <th>Region_code_category_RC_51-60</th>\n",
       "      <th>Policy_channel_category_Policy_45-140</th>\n",
       "      <th>Policy_channel_category_Policy_140-180</th>\n",
       "    </tr>\n",
       "  </thead>\n",
       "  <tbody>\n",
       "    <tr>\n",
       "      <th>136887</th>\n",
       "      <td>34</td>\n",
       "      <td>1</td>\n",
       "      <td>0</td>\n",
       "      <td>25285.0</td>\n",
       "      <td>205</td>\n",
       "      <td>0</td>\n",
       "      <td>0</td>\n",
       "      <td>0</td>\n",
       "      <td>0</td>\n",
       "      <td>1</td>\n",
       "      <td>0</td>\n",
       "      <td>0</td>\n",
       "      <td>0</td>\n",
       "      <td>0</td>\n",
       "      <td>0</td>\n",
       "      <td>0</td>\n",
       "      <td>1</td>\n",
       "    </tr>\n",
       "    <tr>\n",
       "      <th>11417</th>\n",
       "      <td>50</td>\n",
       "      <td>1</td>\n",
       "      <td>0</td>\n",
       "      <td>35252.0</td>\n",
       "      <td>54</td>\n",
       "      <td>0</td>\n",
       "      <td>1</td>\n",
       "      <td>0</td>\n",
       "      <td>0</td>\n",
       "      <td>1</td>\n",
       "      <td>0</td>\n",
       "      <td>1</td>\n",
       "      <td>0</td>\n",
       "      <td>0</td>\n",
       "      <td>0</td>\n",
       "      <td>0</td>\n",
       "      <td>0</td>\n",
       "    </tr>\n",
       "    <tr>\n",
       "      <th>290365</th>\n",
       "      <td>46</td>\n",
       "      <td>1</td>\n",
       "      <td>0</td>\n",
       "      <td>29641.0</td>\n",
       "      <td>114</td>\n",
       "      <td>1</td>\n",
       "      <td>0</td>\n",
       "      <td>0</td>\n",
       "      <td>0</td>\n",
       "      <td>1</td>\n",
       "      <td>0</td>\n",
       "      <td>0</td>\n",
       "      <td>0</td>\n",
       "      <td>0</td>\n",
       "      <td>0</td>\n",
       "      <td>1</td>\n",
       "      <td>0</td>\n",
       "    </tr>\n",
       "    <tr>\n",
       "      <th>274206</th>\n",
       "      <td>25</td>\n",
       "      <td>1</td>\n",
       "      <td>1</td>\n",
       "      <td>2630.0</td>\n",
       "      <td>93</td>\n",
       "      <td>0</td>\n",
       "      <td>0</td>\n",
       "      <td>1</td>\n",
       "      <td>0</td>\n",
       "      <td>0</td>\n",
       "      <td>0</td>\n",
       "      <td>0</td>\n",
       "      <td>0</td>\n",
       "      <td>1</td>\n",
       "      <td>0</td>\n",
       "      <td>0</td>\n",
       "      <td>1</td>\n",
       "    </tr>\n",
       "    <tr>\n",
       "      <th>282784</th>\n",
       "      <td>66</td>\n",
       "      <td>1</td>\n",
       "      <td>0</td>\n",
       "      <td>52920.0</td>\n",
       "      <td>67</td>\n",
       "      <td>1</td>\n",
       "      <td>0</td>\n",
       "      <td>0</td>\n",
       "      <td>0</td>\n",
       "      <td>1</td>\n",
       "      <td>0</td>\n",
       "      <td>1</td>\n",
       "      <td>0</td>\n",
       "      <td>0</td>\n",
       "      <td>0</td>\n",
       "      <td>0</td>\n",
       "      <td>0</td>\n",
       "    </tr>\n",
       "  </tbody>\n",
       "</table>\n",
       "</div>"
      ],
      "text/plain": [
       "        Age  Driving_License  Previously_Insured  Annual_Premium  Vintage  \\\n",
       "136887   34                1                   0         25285.0      205   \n",
       "11417    50                1                   0         35252.0       54   \n",
       "290365   46                1                   0         29641.0      114   \n",
       "274206   25                1                   1          2630.0       93   \n",
       "282784   66                1                   0         52920.0       67   \n",
       "\n",
       "        Response  Gender_Male  Vehicle_Age_< 1 Year  Vehicle_Age_> 2 Years  \\\n",
       "136887         0            0                     0                      0   \n",
       "11417          0            1                     0                      0   \n",
       "290365         1            0                     0                      0   \n",
       "274206         0            0                     1                      0   \n",
       "282784         1            0                     0                      0   \n",
       "\n",
       "        Vehicle_Damage_Yes  Region_code_category_RC_11-20  \\\n",
       "136887                   1                              0   \n",
       "11417                    1                              0   \n",
       "290365                   1                              0   \n",
       "274206                   0                              0   \n",
       "282784                   1                              0   \n",
       "\n",
       "        Region_code_category_RC_21-30  Region_code_category_RC_31-40  \\\n",
       "136887                              0                              0   \n",
       "11417                               1                              0   \n",
       "290365                              0                              0   \n",
       "274206                              0                              0   \n",
       "282784                              1                              0   \n",
       "\n",
       "        Region_code_category_RC_41-50  Region_code_category_RC_51-60  \\\n",
       "136887                              0                              0   \n",
       "11417                               0                              0   \n",
       "290365                              0                              0   \n",
       "274206                              1                              0   \n",
       "282784                              0                              0   \n",
       "\n",
       "        Policy_channel_category_Policy_45-140  \\\n",
       "136887                                      0   \n",
       "11417                                       0   \n",
       "290365                                      1   \n",
       "274206                                      0   \n",
       "282784                                      0   \n",
       "\n",
       "        Policy_channel_category_Policy_140-180  \n",
       "136887                                       1  \n",
       "11417                                        0  \n",
       "290365                                       0  \n",
       "274206                                       1  \n",
       "282784                                       0  "
      ]
     },
     "execution_count": 5,
     "metadata": {},
     "output_type": "execute_result"
    }
   ],
   "source": [
    "train_health,test_health = train_test_split(Health_data,test_size=0.2,random_state=20)\n",
    "train_health.head()"
   ]
  },
  {
   "cell_type": "code",
   "execution_count": 6,
   "metadata": {},
   "outputs": [],
   "source": [
    "train_health_y =  train_health['Response']\n",
    "train_health_x = train_health.drop(['Response'],axis =1)"
   ]
  },
  {
   "cell_type": "code",
   "execution_count": 7,
   "metadata": {},
   "outputs": [],
   "source": [
    "test_health_y =  test_health['Response']\n",
    "test_health_x = test_health.drop(['Response'],axis =1)"
   ]
  },
  {
   "cell_type": "code",
   "execution_count": 9,
   "metadata": {},
   "outputs": [],
   "source": [
    "clf = DecisionTreeClassifier()\n",
    "clfmodel = clf.fit(train_health_x,train_health_y)"
   ]
  },
  {
   "cell_type": "code",
   "execution_count": 10,
   "metadata": {},
   "outputs": [],
   "source": [
    "y_pred = clfmodel.predict(test_health_x)"
   ]
  },
  {
   "cell_type": "code",
   "execution_count": 11,
   "metadata": {},
   "outputs": [
    {
     "name": "stdout",
     "output_type": "stream",
     "text": [
      "[[59852  7022]\n",
      " [ 6553  2795]]\n",
      "              precision    recall  f1-score   support\n",
      "\n",
      "           0       0.90      0.89      0.90     66874\n",
      "           1       0.28      0.30      0.29      9348\n",
      "\n",
      "    accuracy                           0.82     76222\n",
      "   macro avg       0.59      0.60      0.59     76222\n",
      "weighted avg       0.83      0.82      0.82     76222\n",
      "\n"
     ]
    }
   ],
   "source": [
    "print(confusion_matrix(test_health_y,y_pred))\n",
    "print(classification_report(test_health_y,y_pred))"
   ]
  },
  {
   "cell_type": "code",
   "execution_count": 12,
   "metadata": {},
   "outputs": [
    {
     "data": {
      "text/plain": [
       "0.5969954990045144"
      ]
     },
     "execution_count": 12,
     "metadata": {},
     "output_type": "execute_result"
    }
   ],
   "source": [
    "balanced_accuracy_score(test_health_y,y_pred)"
   ]
  }
 ],
 "metadata": {
  "kernelspec": {
   "display_name": "Python 3",
   "language": "python",
   "name": "python3"
  },
  "language_info": {
   "codemirror_mode": {
    "name": "ipython",
    "version": 3
   },
   "file_extension": ".py",
   "mimetype": "text/x-python",
   "name": "python",
   "nbconvert_exporter": "python",
   "pygments_lexer": "ipython3",
   "version": "3.8.3"
  }
 },
 "nbformat": 4,
 "nbformat_minor": 4
}
